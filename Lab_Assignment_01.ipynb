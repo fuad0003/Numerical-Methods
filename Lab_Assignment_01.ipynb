{
  "cells": [
    {
      "cell_type": "markdown",
      "metadata": {
        "id": "view-in-github",
        "colab_type": "text"
      },
      "source": [
        "<a href=\"https://colab.research.google.com/github/fuad0003/Numerical-Methods/blob/main/Lab_Assignment_01.ipynb\" target=\"_parent\"><img src=\"https://colab.research.google.com/assets/colab-badge.svg\" alt=\"Open In Colab\"/></a>"
      ]
    },
    {
      "cell_type": "markdown",
      "metadata": {
        "id": "6_IJpkMKC_FG"
      },
      "source": [
        "<a href=\"https://colab.research.google.com/github/mirsazzathossain/CSE317-Lab/blob/main/Lab_Assignment_01.ipynb\" target=\"_parent\"><img src=\"https://colab.research.google.com/assets/colab-badge.svg\" alt=\"Open In Colab\"/></a>"
      ]
    },
    {
      "cell_type": "markdown",
      "metadata": {
        "id": "tL-6b-BXC_FL"
      },
      "source": [
        "#### **Homework 01:**\n",
        "Generate random matrix of size 10 x 5. Then, solve the following problems:"
      ]
    },
    {
      "cell_type": "code",
      "execution_count": 2,
      "metadata": {
        "id": "JoCLESzPC_FL"
      },
      "outputs": [],
      "source": [
        "# Write your code to create the 10x5 random matrix here"
      ]
    },
    {
      "cell_type": "code",
      "source": [
        "import numpy as np\n",
        "matrix = np.random.rand(10, 5)\n",
        "print(\"Random 10x5 matrix:\\n\", matrix)\n",
        "second_row = matrix[1, :]\n",
        "sum_second_row = np.sum(second_row)\n",
        "mean_second_row = np.mean(second_row)\n",
        "\n",
        "print(\"\\nSum of the 2nd row:\", sum_second_row)\n",
        "print(\"Mean of the 2nd row:\", mean_second_row)"
      ],
      "metadata": {
        "colab": {
          "base_uri": "https://localhost:8080/"
        },
        "id": "5-AHqrGKeSDj",
        "outputId": "af36e965-2ec4-4d3f-e08f-93967e5c91f7"
      },
      "execution_count": 4,
      "outputs": [
        {
          "output_type": "stream",
          "name": "stdout",
          "text": [
            "Random 10x5 matrix:\n",
            " [[0.79756643 0.97933463 0.56509718 0.53693457 0.75835752]\n",
            " [0.83973229 0.43636637 0.57200051 0.18730474 0.57281038]\n",
            " [0.35910195 0.20998144 0.35844847 0.84376354 0.16527002]\n",
            " [0.66216213 0.08261047 0.07296776 0.03879361 0.34202986]\n",
            " [0.52581035 0.68027149 0.2341761  0.05997861 0.6721649 ]\n",
            " [0.8349117  0.77134262 0.48308357 0.27683653 0.27314166]\n",
            " [0.69584037 0.06703303 0.9072836  0.09454218 0.87941427]\n",
            " [0.30521169 0.16417579 0.626258   0.98854135 0.00277478]\n",
            " [0.3532431  0.68025458 0.54992092 0.46604385 0.12695904]\n",
            " [0.9412371  0.5644577  0.25898314 0.32995456 0.18947714]]\n",
            "\n",
            "Sum of the 2nd row: 2.6082142824629093\n",
            "Mean of the 2nd row: 0.5216428564925819\n"
          ]
        }
      ]
    },
    {
      "cell_type": "markdown",
      "metadata": {
        "id": "bbp4LoUFC_FN"
      },
      "source": [
        "##### **Problem 01:**\n",
        "Calculate the sum and mean of the 2nd row of the matrix."
      ]
    },
    {
      "cell_type": "code",
      "execution_count": 5,
      "metadata": {
        "id": "76fLmmStC_FN",
        "colab": {
          "base_uri": "https://localhost:8080/"
        },
        "outputId": "6902fff2-a0be-4a6f-dc49-ac9a62bd7a7f"
      },
      "outputs": [
        {
          "output_type": "stream",
          "name": "stdout",
          "text": [
            "Random 10x5 matrix:\n",
            " [[0.79312913 0.20846309 0.42406327 0.43341394 0.35757207]\n",
            " [0.87734815 0.45835295 0.57903581 0.79909002 0.01604945]\n",
            " [0.08761865 0.87963325 0.07869248 0.72191085 0.97431595]\n",
            " [0.66846643 0.13039909 0.33121522 0.71744446 0.60803686]\n",
            " [0.58356895 0.95343579 0.11508497 0.82847282 0.70492157]\n",
            " [0.72192268 0.94004341 0.51807944 0.75856557 0.0984392 ]\n",
            " [0.39739736 0.26414585 0.84977348 0.76757344 0.22329566]\n",
            " [0.99518256 0.94507379 0.0538406  0.96128024 0.89506736]\n",
            " [0.81284722 0.37993154 0.78239503 0.49750669 0.4351816 ]\n",
            " [0.75443832 0.66375555 0.72488799 0.54139964 0.01988897]]\n",
            "\n",
            "Sum of the 2nd row: 2.729876381797328\n",
            "Mean of the 2nd row: 0.5459752763594656\n"
          ]
        }
      ],
      "source": [
        "import numpy as np\n",
        "matrix = np.random.rand(10, 5)\n",
        "print(\"Random 10x5 matrix:\\n\", matrix)\n",
        "second_row = matrix[1, :]\n",
        "sum_second_row = np.sum(second_row)\n",
        "mean_second_row = np.mean(second_row)\n",
        "\n",
        "print(\"\\nSum of the 2nd row:\", sum_second_row)\n",
        "print(\"Mean of the 2nd row:\", mean_second_row)"
      ]
    },
    {
      "cell_type": "markdown",
      "metadata": {
        "id": "l6bDmYW1C_FO"
      },
      "source": [
        "##### **Problem 02:**\n",
        "Find the sum and mean of all the rows of the matrix."
      ]
    },
    {
      "cell_type": "code",
      "execution_count": 6,
      "metadata": {
        "id": "K-t2BAW2C_FO",
        "colab": {
          "base_uri": "https://localhost:8080/"
        },
        "outputId": "082c4bf8-ae03-4997-e3f3-ced783e5ad74"
      },
      "outputs": [
        {
          "output_type": "stream",
          "name": "stdout",
          "text": [
            "Random 10x5 matrix:\n",
            " [[0.83887603 0.91755825 0.24618824 0.57374331 0.72691979]\n",
            " [0.57400087 0.62931631 0.23714647 0.29526316 0.67261135]\n",
            " [0.1353836  0.33067578 0.45839109 0.77568436 0.52960828]\n",
            " [0.06771952 0.6417168  0.15071431 0.15679481 0.14099693]\n",
            " [0.31388088 0.67366807 0.95746615 0.92700944 0.81565114]\n",
            " [0.83117326 0.15967055 0.75192161 0.59699249 0.80689804]\n",
            " [0.71397985 0.93178885 0.38564801 0.85641327 0.36853138]\n",
            " [0.00748157 0.16634376 0.27425484 0.60210291 0.10664419]\n",
            " [0.6079011  0.28304781 0.83892742 0.25265499 0.12633749]\n",
            " [0.97641135 0.59395034 0.39392473 0.65751284 0.23505948]]\n",
            "\n",
            "Sum of each row: [3.30328561 2.40833815 2.22974311 1.15794237 3.68767567 3.14665595\n",
            " 3.25636136 1.15682727 2.10886881 2.85685875]\n",
            "Mean of each row: [0.66065712 0.48166763 0.44594862 0.23158847 0.73753513 0.62933119\n",
            " 0.65127227 0.23136545 0.42177376 0.57137175]\n"
          ]
        }
      ],
      "source": [
        "import numpy as np\n",
        "matrix = np.random.rand(10, 5)\n",
        "print(\"Random 10x5 matrix:\\n\", matrix)\n",
        "sums = np.sum(matrix, axis=1)\n",
        "means = np.mean(matrix, axis=1)\n",
        "\n",
        "print(\"\\nSum of each row:\", sums)\n",
        "print(\"Mean of each row:\", means)"
      ]
    },
    {
      "cell_type": "markdown",
      "metadata": {
        "id": "Pn6Ql_axC_FT"
      },
      "source": [
        "##### **Problem 03:**\n",
        "Find the mean of the 3rd column of the matrix without using the built-in function and loop."
      ]
    },
    {
      "cell_type": "code",
      "execution_count": 7,
      "metadata": {
        "id": "islvcg_kC_FU",
        "colab": {
          "base_uri": "https://localhost:8080/"
        },
        "outputId": "70c92477-fbee-4f69-b9fd-524fd681a921"
      },
      "outputs": [
        {
          "output_type": "stream",
          "name": "stdout",
          "text": [
            "Random 10x5 matrix:\n",
            " [[0.73262532 0.88309105 0.04948799 0.58817471 0.80414726]\n",
            " [0.94536195 0.35239609 0.54700469 0.29182232 0.61481622]\n",
            " [0.84592746 0.8527117  0.49262629 0.06260371 0.87597469]\n",
            " [0.50079473 0.75894685 0.21406356 0.76403589 0.88809349]\n",
            " [0.90563473 0.49476067 0.72346006 0.7135609  0.80050303]\n",
            " [0.03131421 0.95175226 0.52346793 0.77761411 0.90895545]\n",
            " [0.74076423 0.29934336 0.53762777 0.72390952 0.17996497]\n",
            " [0.16650099 0.93456182 0.13275384 0.41153727 0.18770627]\n",
            " [0.52248328 0.44119279 0.97860428 0.95794696 0.84190219]\n",
            " [0.09404388 0.68412721 0.2876372  0.64265245 0.74989079]]\n",
            "\n",
            "Mean of the 3rd column: 0.4486733611595268\n"
          ]
        }
      ],
      "source": [
        "import numpy as np\n",
        "matrix = np.random.rand(10, 5)\n",
        "print(\"Random 10x5 matrix:\\n\", matrix)\n",
        "third_column = matrix[:, 2]\n",
        "mean_third_column = np.sum(third_column) / len(third_column)\n",
        "print(\"\\nMean of the 3rd column:\", mean_third_column)\n"
      ]
    },
    {
      "cell_type": "markdown",
      "metadata": {
        "id": "C2Ke-ruyC_FV"
      },
      "source": [
        "##### **Problem 04:**\n",
        "Generate the vector `[25, 16, 9, 4, 1]` and then find the square root of each element of the vector using for loop. **Hint:** Use `np.sqrt()` function to find the square root of a number, don't use any other built-in function."
      ]
    },
    {
      "cell_type": "code",
      "execution_count": 8,
      "metadata": {
        "id": "7t49NW1LC_FW",
        "colab": {
          "base_uri": "https://localhost:8080/"
        },
        "outputId": "038e0ed1-aa6b-410c-e3c2-234147811e27"
      },
      "outputs": [
        {
          "output_type": "stream",
          "name": "stdout",
          "text": [
            "Random 10x5 matrix:\n",
            " [[0.71686705 0.88664765 0.31481187 0.45526609 0.45483889]\n",
            " [0.52032288 0.65718723 0.78061015 0.43209607 0.06474504]\n",
            " [0.82122564 0.07153048 0.27935475 0.74748247 0.79565151]\n",
            " [0.7327776  0.24679177 0.64103348 0.426521   0.3606266 ]\n",
            " [0.29535693 0.91640867 0.45996126 0.80214172 0.94676139]\n",
            " [0.47277307 0.27236481 0.6298522  0.1025143  0.66564506]\n",
            " [0.81656916 0.57545531 0.71773537 0.84034633 0.22140889]\n",
            " [0.62244838 0.7839237  0.99382227 0.64183339 0.56141048]\n",
            " [0.05752415 0.19301563 0.14784591 0.81104158 0.4130583 ]\n",
            " [0.68165781 0.22799626 0.41088539 0.82677226 0.97862977]]\n",
            "\n",
            "Original vector: [25 16  9  4  1]\n",
            "\n",
            "Square roots of the vector: [5. 4. 3. 2. 1.]\n"
          ]
        }
      ],
      "source": [
        "import numpy as np\n",
        "matrix = np.random.rand(10, 5)\n",
        "print(\"Random 10x5 matrix:\\n\", matrix)\n",
        "vector = np.array([25, 16, 9, 4, 1])\n",
        "print(\"\\nOriginal vector:\", vector)\n",
        "sqrt_vector = np.zeros_like(vector, dtype=float)\n",
        "for i in range(len(vector)):\n",
        "    sqrt_vector[i] = np.sqrt(vector[i])\n",
        "\n",
        "print(\"\\nSquare roots of the vector:\", sqrt_vector)"
      ]
    },
    {
      "cell_type": "markdown",
      "metadata": {
        "id": "WE2iJ7GjC_FW"
      },
      "source": [
        "##### **Problem 05:**\n",
        "Write a function that takes a number and returns a vector like the previous problem. For example, if the input is 5, then the output should be `[25, 16, 9, 4, 1]`. If the input is 10, then the output should be `[100, 81, 64, 49, 36, 25, 16, 9, 4, 1]`."
      ]
    },
    {
      "cell_type": "code",
      "execution_count": null,
      "metadata": {
        "id": "5gCYjNjfC_FX"
      },
      "outputs": [],
      "source": [
        "import numpy as np"
      ]
    },
    {
      "cell_type": "markdown",
      "metadata": {
        "id": "fdNyi0IfC_FX"
      },
      "source": [
        "##### **Problem 06:**\n",
        "Generate the following block matrix:\n",
        "\n",
        "$$\n",
        "\\begin{bmatrix}\n",
        "1 & 0 & 0 & 2 & 2 \\\\\n",
        "0 & 1 & 0 & 2 & 2 \\\\\n",
        "0 & 0 & 1 & 2 & 2 \\\\\n",
        "25 & 16 & 9 & 4 & 1 \\\\\n",
        "\\end{bmatrix}\n",
        "$$\n",
        "\n",
        "You can use any built-in function to generate the matrix."
      ]
    },
    {
      "cell_type": "code",
      "execution_count": null,
      "metadata": {
        "id": "WTkk8tIxC_FY"
      },
      "outputs": [],
      "source": [
        "# Write your code here"
      ]
    },
    {
      "cell_type": "markdown",
      "metadata": {
        "id": "nbSA2MqHC_FY"
      },
      "source": [
        "##### **Problem 07:**\n",
        "Plot $y = 2x^2 + 3x + 1$ for $x \\in [-3, 3]$ with interval 0.25. You can use any built-in function to plot the graph."
      ]
    },
    {
      "cell_type": "code",
      "execution_count": null,
      "metadata": {
        "id": "RabElF3SC_FY"
      },
      "outputs": [],
      "source": [
        "# Write your code here"
      ]
    },
    {
      "cell_type": "markdown",
      "metadata": {
        "id": "GHvT-_M2C_FZ"
      },
      "source": [
        "##### **Problem 08:**\n",
        "Plot $x + y + z = 1$ for $x, y \\in [-3, 3]$ with interval 0.5. Use meshgrid to generate the grid. You can use any built-in function to plot the surface."
      ]
    },
    {
      "cell_type": "code",
      "execution_count": null,
      "metadata": {
        "id": "ciawTwXBC_FZ"
      },
      "outputs": [],
      "source": [
        "# Write your code here"
      ]
    },
    {
      "cell_type": "markdown",
      "metadata": {
        "id": "i8xm7XvOC_FZ"
      },
      "source": [
        "##### **Problem 09:**\n",
        "Download the image of Lena Forsen from the following link: [https://upload.wikimedia.org/wikipedia/en/7/7d/Lenna_%28test_image%29.png](https://upload.wikimedia.org/wikipedia/en/7/7d/Lenna_%28test_image%29.png). Then, do the following tasks:\n",
        "\n",
        "*  Load the image to a numpy array.\n",
        "*  Find the size of the image.\n",
        "*  Find the minimum and maximum value of the image.\n",
        "*  Find the mean and standard deviation of the image.\n",
        "*  Plot the image using `plt.imshow()` or `display()`.\n",
        "*  Resize the image to 50 x 50.\n",
        "*  Convert the image to grayscale.\n",
        "*  Plot the grayscale image using `plt.imshow()` or `display()`.\n",
        "*  Save the grayscale image using `imsave()`.\n",
        "*  Stack the columns of the image to form a vector of size 2500 x 1."
      ]
    },
    {
      "cell_type": "code",
      "execution_count": null,
      "metadata": {
        "id": "9MhFPhFVC_Fa"
      },
      "outputs": [],
      "source": [
        "# Write your code here"
      ]
    },
    {
      "cell_type": "markdown",
      "metadata": {
        "id": "j79_jz41C_Fa"
      },
      "source": [
        "##### **Problem 10:**\n",
        "Compute 2nd order Taylor approximation of $e^{2x}$ and $e^{3x}$, and $e^{5x}$ around $a = 0$ for $x \\in [-1, 1]$ with interval 0.01. Then, determine which of the following is more accurate:\n",
        "> 1. Calculating the Taylor approximation separately for each $e^{2x}$, $e^{3x}$ then multiplying them together.\n",
        "> 2. Calculating the Taylor approximation for $e^{5x}$.\n",
        "\n",
        "Use mean square error (MSE) to determine the accuracy. Also, plot the Taylor approximation for 1st and 2nd method and the original function in the same plot for visual comparison."
      ]
    },
    {
      "cell_type": "code",
      "execution_count": null,
      "metadata": {
        "id": "GYvGCRoIC_Fb"
      },
      "outputs": [],
      "source": [
        "# Write your code here"
      ]
    }
  ],
  "metadata": {
    "kernelspec": {
      "display_name": "Python 3.10.6 64-bit",
      "language": "python",
      "name": "python3"
    },
    "language_info": {
      "codemirror_mode": {
        "name": "ipython",
        "version": 3
      },
      "file_extension": ".py",
      "mimetype": "text/x-python",
      "name": "python",
      "nbconvert_exporter": "python",
      "pygments_lexer": "ipython3",
      "version": "3.10.6 (tags/v3.10.6:9c7b4bd, Aug  1 2022, 21:53:49) [MSC v.1932 64 bit (AMD64)]"
    },
    "orig_nbformat": 4,
    "vscode": {
      "interpreter": {
        "hash": "b148fc9bfa8b60132af830e32e1690e4e023b803e92912df15b823b90141dda6"
      }
    },
    "colab": {
      "provenance": [],
      "include_colab_link": true
    }
  },
  "nbformat": 4,
  "nbformat_minor": 0
}